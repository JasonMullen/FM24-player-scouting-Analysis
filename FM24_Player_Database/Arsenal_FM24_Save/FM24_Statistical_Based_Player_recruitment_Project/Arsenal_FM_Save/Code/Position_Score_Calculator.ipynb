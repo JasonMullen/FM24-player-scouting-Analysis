{
 "cells": [
  {
   "cell_type": "code",
   "execution_count": 17,
   "id": "3a9d57c1-f917-4e4a-9de6-707f8ba40f9b",
   "metadata": {
    "tags": []
   },
   "outputs": [],
   "source": [
    "#Importing the libraries\n",
    "import pandas as pd\n",
    "import glob\n",
    "import os"
   ]
  },
  {
   "cell_type": "code",
   "execution_count": 7,
   "id": "10eab95f-d38d-405d-b43c-24cdb03bc0d6",
   "metadata": {
    "tags": []
   },
   "outputs": [
    {
     "name": "stdout",
     "output_type": "stream",
     "text": [
      "/Users/JumpMan/Desktop/FM_Analytics/FM24_Player_Database/Arsenal_FM24_Save/Stats/FM24_Arsenal_2023_Stats_Dec.html\n"
     ]
    }
   ],
   "source": [
    "#Loads the data\n",
    "list_of_files = glob.glob(os.path.join('/Users/JumpMan/Desktop/FM_Analytics/FM24_Player_Database/Arsenal_FM24_Save/Stats/FM24_Arsenal_2023_Stats_Dec.html'))\n",
    "latest_file = max(list_of_files, key = os.path.getctime)\n",
    "print(latest_file)"
   ]
  },
  {
   "cell_type": "code",
   "execution_count": 14,
   "id": "cc6cfbed-8508-415d-a4eb-a167ab2936ed",
   "metadata": {
    "tags": []
   },
   "outputs": [],
   "source": [
    "# Read HTML file exported by Football Manager (FM)\n",
    "# This reads as a list, not a dataframe\n",
    "squad_rawdata_list = pd.read_html(latest_file, header=0, encoding=\"utf-8\", keep_default_na=False)\n",
    "squad_rawdata = squad_rawdata_list[0]  # Take the first (presumably only) table from the list\n",
    "\n"
   ]
  },
  {
   "cell_type": "code",
   "execution_count": 15,
   "id": "15d0bc4e-728b-421b-98a8-0a3de0b5c2d8",
   "metadata": {
    "tags": []
   },
   "outputs": [
    {
     "ename": "KeyError",
     "evalue": "'Pac'",
     "output_type": "error",
     "traceback": [
      "\u001b[0;31m---------------------------------------------------------------------------\u001b[0m",
      "\u001b[0;31mKeyError\u001b[0m                                  Traceback (most recent call last)",
      "File \u001b[0;32m~/anaconda3/lib/python3.11/site-packages/pandas/core/indexes/base.py:3653\u001b[0m, in \u001b[0;36mIndex.get_loc\u001b[0;34m(self, key)\u001b[0m\n\u001b[1;32m   3652\u001b[0m \u001b[38;5;28;01mtry\u001b[39;00m:\n\u001b[0;32m-> 3653\u001b[0m     \u001b[38;5;28;01mreturn\u001b[39;00m \u001b[38;5;28mself\u001b[39m\u001b[38;5;241m.\u001b[39m_engine\u001b[38;5;241m.\u001b[39mget_loc(casted_key)\n\u001b[1;32m   3654\u001b[0m \u001b[38;5;28;01mexcept\u001b[39;00m \u001b[38;5;167;01mKeyError\u001b[39;00m \u001b[38;5;28;01mas\u001b[39;00m err:\n",
      "File \u001b[0;32m~/anaconda3/lib/python3.11/site-packages/pandas/_libs/index.pyx:147\u001b[0m, in \u001b[0;36mpandas._libs.index.IndexEngine.get_loc\u001b[0;34m()\u001b[0m\n",
      "File \u001b[0;32m~/anaconda3/lib/python3.11/site-packages/pandas/_libs/index.pyx:176\u001b[0m, in \u001b[0;36mpandas._libs.index.IndexEngine.get_loc\u001b[0;34m()\u001b[0m\n",
      "File \u001b[0;32mpandas/_libs/hashtable_class_helper.pxi:7080\u001b[0m, in \u001b[0;36mpandas._libs.hashtable.PyObjectHashTable.get_item\u001b[0;34m()\u001b[0m\n",
      "File \u001b[0;32mpandas/_libs/hashtable_class_helper.pxi:7088\u001b[0m, in \u001b[0;36mpandas._libs.hashtable.PyObjectHashTable.get_item\u001b[0;34m()\u001b[0m\n",
      "\u001b[0;31mKeyError\u001b[0m: 'Pac'",
      "\nThe above exception was the direct cause of the following exception:\n",
      "\u001b[0;31mKeyError\u001b[0m                                  Traceback (most recent call last)",
      "Cell \u001b[0;32mIn[15], line 2\u001b[0m\n\u001b[1;32m      1\u001b[0m \u001b[38;5;66;03m# Calculate simple speed and workrate scores\u001b[39;00m\n\u001b[0;32m----> 2\u001b[0m squad_rawdata[\u001b[38;5;124m'\u001b[39m\u001b[38;5;124mSpd\u001b[39m\u001b[38;5;124m'\u001b[39m] \u001b[38;5;241m=\u001b[39m (squad_rawdata[\u001b[38;5;124m'\u001b[39m\u001b[38;5;124mPac\u001b[39m\u001b[38;5;124m'\u001b[39m] \u001b[38;5;241m+\u001b[39m squad_rawdata[\u001b[38;5;124m'\u001b[39m\u001b[38;5;124mAcc\u001b[39m\u001b[38;5;124m'\u001b[39m]) \u001b[38;5;241m/\u001b[39m \u001b[38;5;241m2\u001b[39m\n\u001b[1;32m      3\u001b[0m squad_rawdata[\u001b[38;5;124m'\u001b[39m\u001b[38;5;124mWork\u001b[39m\u001b[38;5;124m'\u001b[39m] \u001b[38;5;241m=\u001b[39m (squad_rawdata[\u001b[38;5;124m'\u001b[39m\u001b[38;5;124mWor\u001b[39m\u001b[38;5;124m'\u001b[39m] \u001b[38;5;241m+\u001b[39m squad_rawdata[\u001b[38;5;124m'\u001b[39m\u001b[38;5;124mSta\u001b[39m\u001b[38;5;124m'\u001b[39m]) \u001b[38;5;241m/\u001b[39m \u001b[38;5;241m2\u001b[39m\n\u001b[1;32m      4\u001b[0m squad_rawdata[\u001b[38;5;124m'\u001b[39m\u001b[38;5;124mSetP\u001b[39m\u001b[38;5;124m'\u001b[39m] \u001b[38;5;241m=\u001b[39m (squad_rawdata[\u001b[38;5;124m'\u001b[39m\u001b[38;5;124mJum\u001b[39m\u001b[38;5;124m'\u001b[39m] \u001b[38;5;241m+\u001b[39m squad_rawdata[\u001b[38;5;124m'\u001b[39m\u001b[38;5;124mBra\u001b[39m\u001b[38;5;124m'\u001b[39m]) \u001b[38;5;241m/\u001b[39m \u001b[38;5;241m2\u001b[39m\n",
      "File \u001b[0;32m~/anaconda3/lib/python3.11/site-packages/pandas/core/frame.py:3761\u001b[0m, in \u001b[0;36mDataFrame.__getitem__\u001b[0;34m(self, key)\u001b[0m\n\u001b[1;32m   3759\u001b[0m \u001b[38;5;28;01mif\u001b[39;00m \u001b[38;5;28mself\u001b[39m\u001b[38;5;241m.\u001b[39mcolumns\u001b[38;5;241m.\u001b[39mnlevels \u001b[38;5;241m>\u001b[39m \u001b[38;5;241m1\u001b[39m:\n\u001b[1;32m   3760\u001b[0m     \u001b[38;5;28;01mreturn\u001b[39;00m \u001b[38;5;28mself\u001b[39m\u001b[38;5;241m.\u001b[39m_getitem_multilevel(key)\n\u001b[0;32m-> 3761\u001b[0m indexer \u001b[38;5;241m=\u001b[39m \u001b[38;5;28mself\u001b[39m\u001b[38;5;241m.\u001b[39mcolumns\u001b[38;5;241m.\u001b[39mget_loc(key)\n\u001b[1;32m   3762\u001b[0m \u001b[38;5;28;01mif\u001b[39;00m is_integer(indexer):\n\u001b[1;32m   3763\u001b[0m     indexer \u001b[38;5;241m=\u001b[39m [indexer]\n",
      "File \u001b[0;32m~/anaconda3/lib/python3.11/site-packages/pandas/core/indexes/base.py:3655\u001b[0m, in \u001b[0;36mIndex.get_loc\u001b[0;34m(self, key)\u001b[0m\n\u001b[1;32m   3653\u001b[0m     \u001b[38;5;28;01mreturn\u001b[39;00m \u001b[38;5;28mself\u001b[39m\u001b[38;5;241m.\u001b[39m_engine\u001b[38;5;241m.\u001b[39mget_loc(casted_key)\n\u001b[1;32m   3654\u001b[0m \u001b[38;5;28;01mexcept\u001b[39;00m \u001b[38;5;167;01mKeyError\u001b[39;00m \u001b[38;5;28;01mas\u001b[39;00m err:\n\u001b[0;32m-> 3655\u001b[0m     \u001b[38;5;28;01mraise\u001b[39;00m \u001b[38;5;167;01mKeyError\u001b[39;00m(key) \u001b[38;5;28;01mfrom\u001b[39;00m \u001b[38;5;21;01merr\u001b[39;00m\n\u001b[1;32m   3656\u001b[0m \u001b[38;5;28;01mexcept\u001b[39;00m \u001b[38;5;167;01mTypeError\u001b[39;00m:\n\u001b[1;32m   3657\u001b[0m     \u001b[38;5;66;03m# If we have a listlike key, _check_indexing_error will raise\u001b[39;00m\n\u001b[1;32m   3658\u001b[0m     \u001b[38;5;66;03m#  InvalidIndexError. Otherwise we fall through and re-raise\u001b[39;00m\n\u001b[1;32m   3659\u001b[0m     \u001b[38;5;66;03m#  the TypeError.\u001b[39;00m\n\u001b[1;32m   3660\u001b[0m     \u001b[38;5;28mself\u001b[39m\u001b[38;5;241m.\u001b[39m_check_indexing_error(key)\n",
      "\u001b[0;31mKeyError\u001b[0m: 'Pac'"
     ]
    }
   ],
   "source": [
    "# Calculate simple speed, workrate, Set Pieces scores\n",
    "squad_rawdata['Spd'] = (squad_rawdata['Pac'] + squad_rawdata['Acc']) / 2\n",
    "squad_rawdata['Work'] = (squad_rawdata['Wor'] + squad_rawdata['Sta']) / 2\n",
    "squad_rawdata['SetP'] = (squad_rawdata['Jum'] + squad_rawdata['Bra']) / 2"
   ]
  },
  {
   "cell_type": "code",
   "execution_count": 16,
   "id": "6303c5a2-8d5f-48f1-9910-ef53f7f0351b",
   "metadata": {
    "tags": []
   },
   "outputs": [
    {
     "ename": "KeyError",
     "evalue": "'Agi'",
     "output_type": "error",
     "traceback": [
      "\u001b[0;31m---------------------------------------------------------------------------\u001b[0m",
      "\u001b[0;31mKeyError\u001b[0m                                  Traceback (most recent call last)",
      "File \u001b[0;32m~/anaconda3/lib/python3.11/site-packages/pandas/core/indexes/base.py:3653\u001b[0m, in \u001b[0;36mIndex.get_loc\u001b[0;34m(self, key)\u001b[0m\n\u001b[1;32m   3652\u001b[0m \u001b[38;5;28;01mtry\u001b[39;00m:\n\u001b[0;32m-> 3653\u001b[0m     \u001b[38;5;28;01mreturn\u001b[39;00m \u001b[38;5;28mself\u001b[39m\u001b[38;5;241m.\u001b[39m_engine\u001b[38;5;241m.\u001b[39mget_loc(casted_key)\n\u001b[1;32m   3654\u001b[0m \u001b[38;5;28;01mexcept\u001b[39;00m \u001b[38;5;167;01mKeyError\u001b[39;00m \u001b[38;5;28;01mas\u001b[39;00m err:\n",
      "File \u001b[0;32m~/anaconda3/lib/python3.11/site-packages/pandas/_libs/index.pyx:147\u001b[0m, in \u001b[0;36mpandas._libs.index.IndexEngine.get_loc\u001b[0;34m()\u001b[0m\n",
      "File \u001b[0;32m~/anaconda3/lib/python3.11/site-packages/pandas/_libs/index.pyx:176\u001b[0m, in \u001b[0;36mpandas._libs.index.IndexEngine.get_loc\u001b[0;34m()\u001b[0m\n",
      "File \u001b[0;32mpandas/_libs/hashtable_class_helper.pxi:7080\u001b[0m, in \u001b[0;36mpandas._libs.hashtable.PyObjectHashTable.get_item\u001b[0;34m()\u001b[0m\n",
      "File \u001b[0;32mpandas/_libs/hashtable_class_helper.pxi:7088\u001b[0m, in \u001b[0;36mpandas._libs.hashtable.PyObjectHashTable.get_item\u001b[0;34m()\u001b[0m\n",
      "\u001b[0;31mKeyError\u001b[0m: 'Agi'",
      "\nThe above exception was the direct cause of the following exception:\n",
      "\u001b[0;31mKeyError\u001b[0m                                  Traceback (most recent call last)",
      "Cell \u001b[0;32mIn[16], line 3\u001b[0m\n\u001b[1;32m      1\u001b[0m \u001b[38;5;66;03m# Calculate goalkeeper score\u001b[39;00m\n\u001b[1;32m      2\u001b[0m \u001b[38;5;66;03m# Split into essential, core, and secondary components\u001b[39;00m\n\u001b[0;32m----> 3\u001b[0m squad_rawdata[\u001b[38;5;124m'\u001b[39m\u001b[38;5;124mgk_essential\u001b[39m\u001b[38;5;124m'\u001b[39m] \u001b[38;5;241m=\u001b[39m ((squad_rawdata[\u001b[38;5;124m'\u001b[39m\u001b[38;5;124mAgi\u001b[39m\u001b[38;5;124m'\u001b[39m] \u001b[38;5;241m+\u001b[39m squad_rawdata[\u001b[38;5;124m'\u001b[39m\u001b[38;5;124mRef\u001b[39m\u001b[38;5;124m'\u001b[39m]) \u001b[38;5;241m*\u001b[39m \u001b[38;5;241m5\u001b[39m)\n\u001b[1;32m      4\u001b[0m squad_rawdata[\u001b[38;5;124m'\u001b[39m\u001b[38;5;124mgk_core\u001b[39m\u001b[38;5;124m'\u001b[39m] \u001b[38;5;241m=\u001b[39m ((squad_rawdata[\u001b[38;5;124m'\u001b[39m\u001b[38;5;124m1v1\u001b[39m\u001b[38;5;124m'\u001b[39m] \u001b[38;5;241m+\u001b[39m squad_rawdata[\u001b[38;5;124m'\u001b[39m\u001b[38;5;124mAnt\u001b[39m\u001b[38;5;124m'\u001b[39m] \u001b[38;5;241m+\u001b[39m squad_rawdata[\u001b[38;5;124m'\u001b[39m\u001b[38;5;124mCmd\u001b[39m\u001b[38;5;124m'\u001b[39m] \u001b[38;5;241m+\u001b[39m\n\u001b[1;32m      5\u001b[0m                               squad_rawdata[\u001b[38;5;124m'\u001b[39m\u001b[38;5;124mCnt\u001b[39m\u001b[38;5;124m'\u001b[39m] \u001b[38;5;241m+\u001b[39m squad_rawdata[\u001b[38;5;124m'\u001b[39m\u001b[38;5;124mKic\u001b[39m\u001b[38;5;124m'\u001b[39m] \u001b[38;5;241m+\u001b[39m squad_rawdata[\u001b[38;5;124m'\u001b[39m\u001b[38;5;124mPos\u001b[39m\u001b[38;5;124m'\u001b[39m]) \u001b[38;5;241m*\u001b[39m \u001b[38;5;241m3\u001b[39m)\n\u001b[1;32m      6\u001b[0m squad_rawdata[\u001b[38;5;124m'\u001b[39m\u001b[38;5;124mgk_secondary\u001b[39m\u001b[38;5;124m'\u001b[39m] \u001b[38;5;241m=\u001b[39m ((squad_rawdata[\u001b[38;5;124m'\u001b[39m\u001b[38;5;124mAcc\u001b[39m\u001b[38;5;124m'\u001b[39m] \u001b[38;5;241m+\u001b[39m squad_rawdata[\u001b[38;5;124m'\u001b[39m\u001b[38;5;124mAer\u001b[39m\u001b[38;5;124m'\u001b[39m] \u001b[38;5;241m+\u001b[39m squad_rawdata[\u001b[38;5;124m'\u001b[39m\u001b[38;5;124mCmp\u001b[39m\u001b[38;5;124m'\u001b[39m] \u001b[38;5;241m+\u001b[39m\n\u001b[1;32m      7\u001b[0m                                   squad_rawdata[\u001b[38;5;124m'\u001b[39m\u001b[38;5;124mDec\u001b[39m\u001b[38;5;124m'\u001b[39m] \u001b[38;5;241m+\u001b[39m squad_rawdata[\u001b[38;5;124m'\u001b[39m\u001b[38;5;124mFir\u001b[39m\u001b[38;5;124m'\u001b[39m] \u001b[38;5;241m+\u001b[39m squad_rawdata[\u001b[38;5;124m'\u001b[39m\u001b[38;5;124mHan\u001b[39m\u001b[38;5;124m'\u001b[39m] \u001b[38;5;241m+\u001b[39m\n\u001b[1;32m      8\u001b[0m                                   squad_rawdata[\u001b[38;5;124m'\u001b[39m\u001b[38;5;124mPas\u001b[39m\u001b[38;5;124m'\u001b[39m] \u001b[38;5;241m+\u001b[39m squad_rawdata[\u001b[38;5;124m'\u001b[39m\u001b[38;5;124mThr\u001b[39m\u001b[38;5;124m'\u001b[39m] \u001b[38;5;241m+\u001b[39m squad_rawdata[\u001b[38;5;124m'\u001b[39m\u001b[38;5;124mVis\u001b[39m\u001b[38;5;124m'\u001b[39m]) \u001b[38;5;241m*\u001b[39m \u001b[38;5;241m1\u001b[39m)\n",
      "File \u001b[0;32m~/anaconda3/lib/python3.11/site-packages/pandas/core/frame.py:3761\u001b[0m, in \u001b[0;36mDataFrame.__getitem__\u001b[0;34m(self, key)\u001b[0m\n\u001b[1;32m   3759\u001b[0m \u001b[38;5;28;01mif\u001b[39;00m \u001b[38;5;28mself\u001b[39m\u001b[38;5;241m.\u001b[39mcolumns\u001b[38;5;241m.\u001b[39mnlevels \u001b[38;5;241m>\u001b[39m \u001b[38;5;241m1\u001b[39m:\n\u001b[1;32m   3760\u001b[0m     \u001b[38;5;28;01mreturn\u001b[39;00m \u001b[38;5;28mself\u001b[39m\u001b[38;5;241m.\u001b[39m_getitem_multilevel(key)\n\u001b[0;32m-> 3761\u001b[0m indexer \u001b[38;5;241m=\u001b[39m \u001b[38;5;28mself\u001b[39m\u001b[38;5;241m.\u001b[39mcolumns\u001b[38;5;241m.\u001b[39mget_loc(key)\n\u001b[1;32m   3762\u001b[0m \u001b[38;5;28;01mif\u001b[39;00m is_integer(indexer):\n\u001b[1;32m   3763\u001b[0m     indexer \u001b[38;5;241m=\u001b[39m [indexer]\n",
      "File \u001b[0;32m~/anaconda3/lib/python3.11/site-packages/pandas/core/indexes/base.py:3655\u001b[0m, in \u001b[0;36mIndex.get_loc\u001b[0;34m(self, key)\u001b[0m\n\u001b[1;32m   3653\u001b[0m     \u001b[38;5;28;01mreturn\u001b[39;00m \u001b[38;5;28mself\u001b[39m\u001b[38;5;241m.\u001b[39m_engine\u001b[38;5;241m.\u001b[39mget_loc(casted_key)\n\u001b[1;32m   3654\u001b[0m \u001b[38;5;28;01mexcept\u001b[39;00m \u001b[38;5;167;01mKeyError\u001b[39;00m \u001b[38;5;28;01mas\u001b[39;00m err:\n\u001b[0;32m-> 3655\u001b[0m     \u001b[38;5;28;01mraise\u001b[39;00m \u001b[38;5;167;01mKeyError\u001b[39;00m(key) \u001b[38;5;28;01mfrom\u001b[39;00m \u001b[38;5;21;01merr\u001b[39;00m\n\u001b[1;32m   3656\u001b[0m \u001b[38;5;28;01mexcept\u001b[39;00m \u001b[38;5;167;01mTypeError\u001b[39;00m:\n\u001b[1;32m   3657\u001b[0m     \u001b[38;5;66;03m# If we have a listlike key, _check_indexing_error will raise\u001b[39;00m\n\u001b[1;32m   3658\u001b[0m     \u001b[38;5;66;03m#  InvalidIndexError. Otherwise we fall through and re-raise\u001b[39;00m\n\u001b[1;32m   3659\u001b[0m     \u001b[38;5;66;03m#  the TypeError.\u001b[39;00m\n\u001b[1;32m   3660\u001b[0m     \u001b[38;5;28mself\u001b[39m\u001b[38;5;241m.\u001b[39m_check_indexing_error(key)\n",
      "\u001b[0;31mKeyError\u001b[0m: 'Agi'"
     ]
    }
   ],
   "source": [
    "# Calculate goalkeeper score\n",
    "# Split into essential, core, and secondary components\n",
    "squad_rawdata['gk_essential'] = ((squad_rawdata['Agi'] + squad_rawdata['Ref']) * 5)\n",
    "squad_rawdata['gk_core'] = ((squad_rawdata['1v1'] + squad_rawdata['Ant'] + squad_rawdata['Cmd'] +\n",
    "                              squad_rawdata['Cnt'] + squad_rawdata['Kic'] + squad_rawdata['Pos']) * 3)\n",
    "squad_rawdata['gk_secondary'] = ((squad_rawdata['Acc'] + squad_rawdata['Aer'] + squad_rawdata['Cmp'] +\n",
    "                                  squad_rawdata['Dec'] + squad_rawdata['Fir'] + squad_rawdata['Han'] +\n",
    "                                  squad_rawdata['Pas'] + squad_rawdata['Thr'] + squad_rawdata['Vis']) * 1)\n",
    "squad_rawdata['gk'] = ((squad_rawdata['gk_essential'] + squad_rawdata['gk_core'] + squad_rawdata['gk_secondary']) / 37)\n",
    "squad_rawdata['gk'] = squad_rawdata['gk'].round(1)"
   ]
  },
  {
   "cell_type": "code",
   "execution_count": null,
   "id": "09a95dd5-7cb8-493a-8778-f87d73e92d94",
   "metadata": {},
   "outputs": [],
   "source": [
    "# Similar calculations for other positions (cb, dm, winger, etc.)\n",
    "squad_rawdata['cb_core'] = ( squad_rawdata['Cmp'] + squad_rawdata['Hea'] + squad_rawdata['Jum']+ squad_rawdata['Mar']+ squad_rawdata['Pas']+ squad_rawdata['Pos']+ squad_rawdata['Str'] + squad_rawdata['Tck'] + squad_rawdata['Pac']) / 9\n",
    "squad_rawdata['cb_secondary'] = ( squad_rawdata['Agg'] + squad_rawdata['Ant'] + squad_rawdata['Bra']+ squad_rawdata['Cnt']+ squad_rawdata['Dec']+ squad_rawdata['Fir']+ squad_rawdata['Tec']+ squad_rawdata['Vis']) / 8\n",
    "squad_rawdata['cb'] =( ( squad_rawdata['cb_core'] * 0.75) + (squad_rawdata['cb_secondary'] * 0.25))\n",
    "squad_rawdata.cb= squad_rawdata.cb.round(1)"
   ]
  },
  {
   "cell_type": "code",
   "execution_count": null,
   "id": "1352578c-a812-4132-a343-8ff299f5ddad",
   "metadata": {},
   "outputs": [],
   "source": [
    "# calculates dm score\n",
    "squad_rawdata['dm'] = ((\n",
    "    ( squad_rawdata['Wor'] * 5) + \n",
    "    ( squad_rawdata['Pac'] * 5) + \n",
    "    ( squad_rawdata['Sta'] * 3) + \n",
    "    ( squad_rawdata['Pas'] * 3) + \n",
    "    ( squad_rawdata['Tck'] * 2) + \n",
    "    ( squad_rawdata['Ant'] * 2) + \n",
    "    ( squad_rawdata['Cnt'] * 2) + \n",
    "    ( squad_rawdata['Pos'] * 2) + \n",
    "    ( squad_rawdata['Bal'] * 2) + \n",
    "    ( squad_rawdata['Agi'] * 2) + \n",
    "    ( squad_rawdata['Tea'] * 1) + \n",
    "    ( squad_rawdata['Fir'] * 1) +\n",
    "    ( squad_rawdata['Mar'] * 1) +\n",
    "    ( squad_rawdata['Agg'] * 1) +\n",
    "    ( squad_rawdata['Cmp'] * 1) +\n",
    "    ( squad_rawdata['Dec'] * 1) +\n",
    "    ( squad_rawdata['Str'] * 1) ) / 35)\n",
    "squad_rawdata.dm= squad_rawdata.dm.round(1)"
   ]
  },
  {
   "cell_type": "code",
   "execution_count": null,
   "id": "3dc6a5af-bcd5-424b-96af-70c187e0f5fb",
   "metadata": {},
   "outputs": [],
   "source": [
    "# calculates segundo volante on attack score\n",
    "squad_rawdata['vol'] = ((\n",
    "    ( squad_rawdata['Wor'] * 5) + \n",
    "    ( squad_rawdata['Pac'] * 5) + \n",
    "    ( squad_rawdata['Sta'] * 3) + \n",
    "    ( squad_rawdata['Pas'] * 3) + \n",
    "    ( squad_rawdata['Tck'] * 2) + \n",
    "    ( squad_rawdata['Ant'] * 2) + \n",
    "    ( squad_rawdata['Cnt'] * 2) + \n",
    "    ( squad_rawdata['Pos'] * 2) + \n",
    "    ( squad_rawdata['Tea'] * 2) + \n",
    "    ( squad_rawdata['Fir'] * 1) +\n",
    "    ( squad_rawdata['Mar'] * 1) +\n",
    "    ( squad_rawdata['Agg'] * 1) +\n",
    "    ( squad_rawdata['Cmp'] * 1) +\n",
    "    ( squad_rawdata['Dec'] * 1) +\n",
    "    ( squad_rawdata['Str'] * 1) ) / 32)\n",
    "squad_rawdata.vol= squad_rawdata.vol.round(1)"
   ]
  },
  {
   "cell_type": "code",
   "execution_count": null,
   "id": "7a840638-8c2c-48c5-9077-5d131a708945",
   "metadata": {},
   "outputs": [],
   "source": [
    "# calculates box2box score\n",
    "squad_rawdata['box2'] = (\n",
    "    ( squad_rawdata['Pas'] * 5) + \n",
    "    ( squad_rawdata['Wor'] * 5) + \n",
    "    ( squad_rawdata['Sta'] * 4) + \n",
    "    ( squad_rawdata['Tck'] * 3) + \n",
    "    ( squad_rawdata['OtB'] * 3) + \n",
    "    ( squad_rawdata['Tea'] * 3) + \n",
    "    ( squad_rawdata['Vis'] * 2) + \n",
    "    ( squad_rawdata['Str'] * 2) + \n",
    "    ( squad_rawdata['Dec'] * 2) + \n",
    "    ( squad_rawdata['Pos'] * 2) + \n",
    "    ( squad_rawdata['Pac'] * 2) +\n",
    "    ( squad_rawdata['Agg'] * 1) +\n",
    "    ( squad_rawdata['Ant'] * 1) +\n",
    "    ( squad_rawdata['Fin'] * 1) +\n",
    "    ( squad_rawdata['Lon'] * 1) +\n",
    "    ( squad_rawdata['Cmp'] * 1) +\n",
    "    ( squad_rawdata['Acc'] * 1) +\n",
    "    ( squad_rawdata['Bal'] * 1) +\n",
    "    ( squad_rawdata['Fir'] * 1) +\n",
    "    ( squad_rawdata['Dri'] * 1) +\n",
    "    ( squad_rawdata['Tec'] * 1))\n",
    "squad_rawdata.box2= squad_rawdata.box2.round(0)"
   ]
  },
  {
   "cell_type": "code",
   "execution_count": null,
   "id": "4574fab4-3245-482d-83aa-5358438709f8",
   "metadata": {},
   "outputs": [],
   "source": [
    "# calculates winger score\n",
    "squad_rawdata['w_core'] = ( squad_rawdata['Acc'] + squad_rawdata['Cro'] + squad_rawdata['Dri']+ squad_rawdata['OtB']+ squad_rawdata['Pac']+ squad_rawdata['Tec']) / 6\n",
    "squad_rawdata['w_secondary'] = ( squad_rawdata['Agi'] + squad_rawdata['Fir'] + squad_rawdata['Pas']+ squad_rawdata['Sta']+ squad_rawdata['Wor']) / 5\n",
    "squad_rawdata['w'] =( ( squad_rawdata['w_core'] * 0.75) + (squad_rawdata['w_secondary'] * 0.25))\n",
    "squad_rawdata.w= squad_rawdata.w.round(1)"
   ]
  },
  {
   "cell_type": "code",
   "execution_count": null,
   "id": "d07298b3-1494-467e-918f-b82933dba18d",
   "metadata": {},
   "outputs": [],
   "source": [
    "# calculates inverted winger score \n",
    "squad_rawdata['amrl'] = ((\n",
    "    ( squad_rawdata['Acc'] * 5) + \n",
    "    ( squad_rawdata['Pac'] * 5) + \n",
    "    ( squad_rawdata['Wor'] * 5) + \n",
    "    ( squad_rawdata['Dri'] * 3) + \n",
    "    ( squad_rawdata['Pas'] * 3) + \n",
    "    ( squad_rawdata['Tec'] * 3) + \n",
    "    ( squad_rawdata['OtB'] * 3) +\n",
    "    ( squad_rawdata['Cro'] * 1) + \n",
    "    ( squad_rawdata['Fir'] * 1) +\n",
    "    ( squad_rawdata['Cmp'] * 1) +\n",
    "    ( squad_rawdata['Dec'] * 1) +\n",
    "    ( squad_rawdata['Vis'] * 1) +\n",
    "    ( squad_rawdata['Agi'] * 1) + \n",
    "    ( squad_rawdata['Sta'] * 1))/ 34)\n",
    "squad_rawdata.amrl= squad_rawdata.amrl.round(1)"
   ]
  },
  {
   "cell_type": "code",
   "execution_count": null,
   "id": "79ae8bf1-6846-4d03-9692-3cc2dc25971d",
   "metadata": {},
   "outputs": [],
   "source": [
    "# calculates amc score\n",
    "squad_rawdata['amc'] = (\n",
    "    ( squad_rawdata['Vis'] * 4) + \n",
    "    ( squad_rawdata['OtB'] * 4) + \n",
    "    ( squad_rawdata['Pas'] * 4) + \n",
    "    ( squad_rawdata['Dec'] * 3) + \n",
    "    ( squad_rawdata['Ant'] * 3) + \n",
    "    ( squad_rawdata['Cmp'] * 3) + \n",
    "    ( squad_rawdata['Tec'] * 3) + \n",
    "    ( squad_rawdata['Dri'] * 1) + \n",
    "    ( squad_rawdata['Fir'] * 1) + \n",
    "    ( squad_rawdata['Fla'] * 1) + \n",
    "    ( squad_rawdata['Lon'] * 1) + \n",
    "    ( squad_rawdata['Agi'] * 1) + \n",
    "    ( squad_rawdata['Fin'] * 1))\n",
    "squad_rawdata.amc= squad_rawdata.amc.round(0)"
   ]
  },
  {
   "cell_type": "code",
   "execution_count": null,
   "id": "d7625124-9271-4229-84a7-7d2363ce9d75",
   "metadata": {},
   "outputs": [],
   "source": [
    "# calculates striker score\n",
    "squad_rawdata['str_core'] = ( squad_rawdata['Cmp'] + squad_rawdata['Fin'] + squad_rawdata['OtB'] + squad_rawdata['Pac']) / 4\n",
    "squad_rawdata['str_secondary'] = ( squad_rawdata['Acc'] + squad_rawdata['Agi'] + squad_rawdata['Ant']+ squad_rawdata['Bal']+ squad_rawdata['Dec']+ squad_rawdata['Dri']+ squad_rawdata['Fir']+ squad_rawdata['Pas']+ squad_rawdata['Sta']+ squad_rawdata['Tec']+ squad_rawdata['Wor']) / 11\n",
    "squad_rawdata['str'] =( ( squad_rawdata['str_core'] * 0.5) + (squad_rawdata['str_secondary'] * 0.5))\n",
    "squad_rawdata.str= squad_rawdata.str.round(1)"
   ]
  },
  {
   "cell_type": "code",
   "execution_count": null,
   "id": "e0d70205-198e-4018-aa22-307a42275bfc",
   "metadata": {},
   "outputs": [],
   "source": [
    "# builds squad dataframe using only columns that will be exported to HTML\n",
    "squad = squad_rawdata[['Inf','Name','Age','Club','Transfer Value','Wage','Nat','Position','Personality','Media Handling','Left Foot', 'Right Foot','Spd','Jum','Str','Work','Height','gk','fb','cb','vol','str']]"
   ]
  },
  {
   "cell_type": "code",
   "execution_count": null,
   "id": "7b5bc671-946f-4b18-8351-67dee5409be8",
   "metadata": {},
   "outputs": [],
   "source": [
    "# taken from here: https://www.thepythoncode.com/article/convert-pandas-dataframe-to-html-table-python\n",
    "# creates a function to make a sortable html export\n",
    "# Function to generate HTML with sortable table using jQuery DataTables\n",
    "\n",
    "def generate_html(dataframe: pd.DataFrame):\n",
    "    # get the table HTML from the dataframe\n",
    "    table_html = dataframe.to_html(table_id=\"table\", index=False)\n",
    "    # construct the complete HTML with jQuery Data tables\n",
    "    # You can disable paging or enable y scrolling on lines 20 and 21 respectively\n",
    "    html = f\"\"\"\n",
    "    <html>\n",
    "    <header>\n",
    "        <link href=\"https://cdn.datatables.net/1.11.5/css/jquery.dataTables.min.css\" rel=\"stylesheet\">\n",
    "    </header>\n",
    "    <body>\n",
    "    {table_html}\n",
    "    <script src=\"https://code.jquery.com/jquery-3.6.0.slim.min.js\" integrity=\"sha256-u7e5khyithlIdTpu22PHhENmPcRdFiHRjhAuHcs05RI=\" crossorigin=\"anonymous\"></script>\n",
    "    <script type=\"text/javascript\" src=\"https://cdn.datatables.net/1.11.5/js/jquery.dataTables.min.js\"></script>\n",
    "    <script>\n",
    "        $(document).ready( function () {{\n",
    "            $('#table').DataTable({{\n",
    "                paging: false,\n",
    "                order: [[12, 'desc']],\n",
    "                // scrollY: 400,\n",
    "            }});\n",
    "        }});\n",
    "    </script>\n",
    "    </body>\n",
    "    </html>\n",
    "    \"\"\"\n",
    "    # return the html\n",
    "    return html"
   ]
  },
  {
   "cell_type": "code",
   "execution_count": null,
   "id": "dbaa716d-a249-4b38-8086-d6b6d08b1cb1",
   "metadata": {},
   "outputs": [],
   "source": [
    "# generates random file name for write-out of html file\n",
    "import uuid\n",
    "filename = str(uuid.uuid4()) + \".html\"\n",
    "filename"
   ]
  },
  {
   "cell_type": "code",
   "execution_count": null,
   "id": "cb4fed1c-e5a6-4de7-85e1-cf0262b6c124",
   "metadata": {},
   "outputs": [],
   "source": [
    "# creates a sortable html export from the dataframe 'squad'\n",
    "\n",
    "html = generate_html(squad)\n",
    "open(filename, \"w\", encoding=\"utf-8\").write(html)"
   ]
  },
  {
   "cell_type": "code",
   "execution_count": null,
   "id": "ef86d9b4-0a57-4285-9eab-ee8bf0b70fcb",
   "metadata": {},
   "outputs": [],
   "source": [
    "macos_filename = (\"/Users/millie/Desktop/FM files on desktop\" + filename)"
   ]
  }
 ],
 "metadata": {
  "kernelspec": {
   "display_name": "Python 3 (ipykernel)",
   "language": "python",
   "name": "python3"
  },
  "language_info": {
   "codemirror_mode": {
    "name": "ipython",
    "version": 3
   },
   "file_extension": ".py",
   "mimetype": "text/x-python",
   "name": "python",
   "nbconvert_exporter": "python",
   "pygments_lexer": "ipython3",
   "version": "3.11.5"
  }
 },
 "nbformat": 4,
 "nbformat_minor": 5
}
